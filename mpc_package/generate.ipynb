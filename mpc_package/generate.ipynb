{
 "cells": [
  {
   "cell_type": "code",
   "execution_count": 18,
   "metadata": {},
   "outputs": [],
   "source": [
    "import csv\n",
    "import numpy as np \n",
    "from matplotlib import pyplot as plt\n",
    "import pandas as pd\n",
    "\n",
    "# Four main reference points\n",
    "\n",
    "ptA = np.array([-187.1, 212.2])\n",
    "ptB = np.array([187.2, 212.2])\n",
    "ptC = np.array([187.1, -212.2])\n",
    "ptD = np.array([-187.1, -212.2])\n",
    "\n",
    "# Important parameters\n",
    "\n",
    "r1 = 33.3 # center to road side\n",
    "r2 = 43.9 # center to inner lane's center\n",
    "width_block = 177.6\n",
    "height_block = 194.2\n",
    "width_lane = 21.15\n"
   ]
  },
  {
   "cell_type": "code",
   "execution_count": 26,
   "metadata": {},
   "outputs": [],
   "source": [
    "\n",
    "# initialize the nodes\n",
    "nodes = np.zeros((100, 2))\n",
    "\n",
    "nodes[1] = ptA + np.array([0, r2])\n",
    "# print(nodes[1])\n",
    "\n",
    "nodes[2] = ptA + np.array([width_block - 2*r1, r2])\n",
    "# print(nodes[2])\n",
    "\n",
    "nodes[5] = ptA + np.array([-r2, 0])\n",
    "nodes[6] = nodes[2] + np.array([r2, -r2])\n",
    "nodes[7] = nodes[6] + np.array([width_lane, 0])\n",
    "nodes[4] = ptB + np.array([0, r2])\n",
    "nodes[9] = ptB + np.array([r2, 0])\n",
    "nodes[3] = ptB + np.array([-(width_block - 2*r1), r2])\n",
    "nodes[8] = nodes[3] + np.array([-r2, -r2])\n",
    "nodes[10] = np.array([0,0]) # TBD\n",
    "nodes[11] = np.array([nodes[6][0], 97]) # 97 is measured on map\n",
    "nodes[12] = nodes[11] + np.array([width_lane, 0])\n",
    "nodes[13] = np.array((-nodes[11][0], nodes[11][1]))\n",
    "nodes[14] = nodes[5] + np.array([0, -(height_block-2*r1)])\n",
    "nodes[33] = nodes[14] + np.array([r2, -r2])\n",
    "nodes[17] = ptB + np.array([0, -(height_block - 2*r1) - r2])\n",
    "nodes[18] = nodes[17] + np.array([r2, r2])\n",
    "nodes[15] = np.array([91, nodes[33][1]]) # 91 is measured on map\n",
    "nodes[16] = np.array([0,0]) # TBD\n",
    "nodes[19] = nodes[15] + np.array([0, -width_lane])\n",
    "nodes[21] = nodes[19] + np.array([0, -width_lane])\n",
    "nodes[20] = nodes[17] + np.array([0, -width_lane])\n",
    "nodes[22] = nodes[20] + np.array([0, -width_lane])\n",
    "nodes[23] = ptD + np.array([0, height_block-2*r1+r2+2*width_lane])\n",
    "nodes[25] = nodes[23] + np.array([0, -width_lane])\n",
    "nodes[27] = nodes[25] + np.array([0, -width_lane])\n",
    "nodes[28] = -nodes[15]\n",
    "nodes[26] = -nodes[19]\n",
    "nodes[24] = -nodes[21]\n",
    "nodes[34] = nodes[27] + np.array([-r2, -r2])\n",
    "nodes[31] = ptC + np.array([0, height_block - 2*r1 + r2])\n",
    "nodes[32] = nodes[31] + np.array([r2, -r2])\n",
    "nodes[29] = np.array([nodes[15][0], nodes[31][1]])\n",
    "# print(nodes[15][0])\n",
    "# print(nodes[31][1])\n",
    "nodes[30] = np.array([0,0]) # TBD\n",
    "nodes[35] = ptD + np.array([-r2, 0])\n",
    "nodes[40] = ptD + np.array([0, -r2])\n",
    "nodes[41] = nodes[40] + np.array([width_block - 2*r1, 0])\n",
    "nodes[39] = ptC + np.array([r2, 0])\n",
    "nodes[43] = ptC + np.array([0, -r2])\n",
    "nodes[42] = nodes[43] + np.array([-(width_block - 2*r1), 0])\n",
    "nodes[38] = nodes[42] + np.array([-r2, r2])\n",
    "nodes[37] = nodes[38] + np.array([-width_lane, 0])\n",
    "nodes[36] = nodes[37] + np.array([-width_lane, 0])\n",
    "nodes[44] = np.array([nodes[24][0], nodes[33][1]])\n"
   ]
  },
  {
   "cell_type": "code",
   "execution_count": 27,
   "metadata": {},
   "outputs": [
    {
     "data": {
      "text/plain": [
       "[<matplotlib.lines.Line2D at 0x7f64e68b25f0>]"
      ]
     },
     "execution_count": 27,
     "metadata": {},
     "output_type": "execute_result"
    },
    {
     "data": {
      "image/png": "[encoded data removed]",
      "text/plain": [
       "<Figure size 640x480 with 1 Axes>"
      ]
     },
     "metadata": {},
     "output_type": "display_data"
    }
   ],
   "source": [
    "DF = pd.DataFrame(nodes)\n",
    "DF.to_csv('nodes.csv')\n",
    "plt.plot(nodes[:, 0], nodes[:, 1], '*')"
   ]
  },
  {
   "cell_type": "code",
   "execution_count": 28,
   "metadata": {},
   "outputs": [],
   "source": [
    "def straight_seg(start, end, sampling_dist=10):\n",
    "    if type(start) != np.ndarray or type(end) != np.ndarray:\n",
    "        raise TypeError(\"start and end must be (x,y) coordinates\")\n",
    "    elif np.shape(start) != (1, 2) or np.shape(end) != (1, 2):\n",
    "        raise ValueError(\"start and end must be 1*2 array\")\n",
    "    # elif abs(start[0] - end[0]) > width_lane/2 and abs(start[1] - end[1]) > width_lane/2:\n",
    "    #     raise ValueError(\"start and end must be on the same straight lane segment\")\n",
    "    dist = np.linalg.norm(end-start)\n",
    "    sampling_num = int(dist / sampling_dist)\n",
    "    return np.linspace(start, end, sampling_num)\n",
    "\n",
    "def ellipse_seg(start, end, orientation, sampling_dist=10):\n",
    "    if type(start) != np.ndarray or type(end) != np.ndarray:\n",
    "        raise TypeError(\"start and end must be (x,y) coordinates\")\n",
    "    elif np.shape(start) != (1, 2) or np.shape(end) != (1, 2):\n",
    "        raise ValueError(\"start and end must be 1*2 array\")\n",
    "    elif orientation not in ['clockwise', 'anticlockwise']:\n",
    "        raise ValueError(\"orientation must be in ['clockwise', 'anticlockwise']\")\n",
    "    if orientation == 'anticlockwise':\n",
    "        # divide quadrants\n",
    "        # first quadrant\n",
    "        if start[0] > end[0] and start[1] < end[1]:\n",
    "            print(\"curve in the first quadrant\")\n",
    "            base_angle = 0\n",
    "            a = start[0] - end[0]\n",
    "            b = \n",
    "            trajectory = np.linspace(base_angle, base_angle + np.pi, )"
   ]
  },
  {
   "cell_type": "code",
   "execution_count": null,
   "metadata": {},
   "outputs": [],
   "source": [
    "sampling_dist = 10 # set the sampling distance \n"
   ]
  }
 ],
 "metadata": {
  "kernelspec": {
   "display_name": "Python 3",
   "language": "python",
   "name": "python3"
  },
  "language_info": {
   "codemirror_mode": {
    "name": "ipython",
    "version": 3
   },
   "file_extension": ".py",
   "mimetype": "text/x-python",
   "name": "python",
   "nbconvert_exporter": "python",
   "pygments_lexer": "ipython3",
   "version": "3.10.12"
  }
 },
 "nbformat": 4,
 "nbformat_minor": 2
}
